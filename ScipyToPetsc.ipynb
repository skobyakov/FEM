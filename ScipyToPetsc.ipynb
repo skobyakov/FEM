{
 "metadata": {
  "name": "",
  "signature": "sha256:65cbcb00a5b13273d29674a21fb7e37343763e47c55edd505fbaf40293abce7b"
 },
 "nbformat": 3,
 "nbformat_minor": 0,
 "worksheets": [
  {
   "cells": [
    {
     "cell_type": "code",
     "collapsed": false,
     "input": [
      "import meshio\n",
      "import numpy as np\n",
      "from scipy import sparse\n",
      "import datetime\n",
      "from scipy.sparse.linalg import cg\n",
      "\n",
      "points, cells, point_data, cell_data, field_data = meshio.read('three_dim_mesh3.vtk')\n",
      "elements = cells['tetra']\n",
      "NN = len(points)\n",
      "NE = len(elements)\n",
      "K_glob = np.zeros((NN, NN))\n",
      "\n",
      "def calculate_coordinate_matrix(element):\n",
      "    matrix = np.zeros((4, 4))\n",
      "    \n",
      "    for node_number in xrange(4):\n",
      "        node = points[element[node_number]]\n",
      "        matrix[node_number][0] = 1\n",
      "        for j in xrange(1, 4):\n",
      "            matrix[node_number][j] = node[j-1]\n",
      "    return matrix\n",
      "\n",
      "for element_number in xrange(len(elements)):\n",
      "    currnet_element = elements[element_number]\n",
      "    \n",
      "    coordinate_matrix = calculate_coordinate_matrix(currnet_element)\n",
      "    coeff = np.linalg.inv(coordinate_matrix)\n",
      "    \n",
      "    integral = (1.0/6.0) * np.linalg.det(coordinate_matrix)\n",
      "    \n",
      "    element_matrix = np.zeros((4, 4))\n",
      "    for i in xrange(4):\n",
      "        for j in xrange(4):\n",
      "            element_matrix[i][j] = (coeff[1][i]*coeff[1][j] + coeff[2][i]*coeff[2][j] + coeff[3][i]*coeff[3][j]) * integral\n",
      "    \n",
      "    for i in xrange(4):\n",
      "        for j in xrange(4):\n",
      "            p = elements[element_number][i]\n",
      "            q = elements[element_number][j]            \n",
      "            K_glob[p][q] += element_matrix[i][j]\n",
      "            \n",
      "Q = np.zeros((NN, 1))\n",
      "nodes_to_reduction = []\n",
      "for point_number in xrange(len(points)):\n",
      "    point = points[point_number]\n",
      "    if point[2] == 0 or point[2] == 1 or point[1] == 0:\n",
      "        nodes_to_reduction.append(point_number)\n",
      "\n",
      "face_nodes = []\n",
      "for point_number in xrange(len(points)):\n",
      "    point = points[point_number]\n",
      "    if point[2] == 0 or point[1] == 0:\n",
      "        face_nodes.append(point_number)\n",
      "for node in face_nodes:\n",
      "    column = K_glob[:,node]\n",
      "    for i in xrange(NN):\n",
      "        Q[i] -= column[i] * 1 # EBC value\n",
      "        \n",
      "K_reduction = np.delete(K_glob, nodes_to_reduction, axis=1)\n",
      "K_reduction = np.delete(K_reduction, nodes_to_reduction, axis=0)\n",
      "Q_reduction = np.delete(Q, nodes_to_reduction, axis=0)\n",
      "\n",
      "T = np.zeros((NN, 1))\n",
      "for e in face_nodes:\n",
      "    T[e] = 1\n",
      "\n",
      "sK = sparse.csr_matrix(K_reduction)\n",
      "sK = sK.astype(np.float64)"
     ],
     "language": "python",
     "metadata": {},
     "outputs": [],
     "prompt_number": 141
    },
    {
     "cell_type": "code",
     "collapsed": false,
     "input": [
      "import petsc4py, sys\n",
      "from petsc4py import PETSc\n",
      "petsc4py.init(sys.argv)"
     ],
     "language": "python",
     "metadata": {},
     "outputs": [],
     "prompt_number": 142
    },
    {
     "cell_type": "code",
     "collapsed": false,
     "input": [
      "pA = PETSc.Mat().createAIJ(size=sK.shape, csr=(sK.indptr, sK.indices, sK.data)) \n",
      "pA.assemblyBegin()\n",
      "pA.assemblyEnd()"
     ],
     "language": "python",
     "metadata": {},
     "outputs": [],
     "prompt_number": 143
    },
    {
     "cell_type": "code",
     "collapsed": false,
     "input": [
      "b = PETSc.Vec().createSeq(len(Q_reduction))\n",
      "for i in xrange(len(Q_reduction)):\n",
      "    b.setValue(i, Q_reduction[i])\n",
      "b.assemblyBegin()\n",
      "b.assemblyEnd()"
     ],
     "language": "python",
     "metadata": {},
     "outputs": [],
     "prompt_number": 144
    },
    {
     "cell_type": "code",
     "collapsed": false,
     "input": [
      "# Create solution vector x.\n",
      "x = PETSc.Vec().createSeq(len(Q_reduction))\n",
      "\n",
      "ksp = PETSc.KSP()\n",
      "ksp.create(PETSc.COMM_WORLD)\n",
      "# use conjugate gradients\n",
      "ksp.setType('cg')\n",
      "# and incomplete Cholesky\n",
      "ksp.getPC().setType('icc')\n",
      "# obtain sol & rhs vectors\n",
      "# and next solve\n",
      "ksp.setOperators(pA)\n",
      "ksp.setFromOptions()\n",
      "\n",
      "\n",
      "print 'PETSc'\n",
      "#time_start = datetime.datetime.now()\n",
      "ksp.solve(b, x)\n",
      "#time_end = datetime.datetime.now()\n",
      "#print time_end - time_start\n",
      "\n",
      "res = x.getArray()"
     ],
     "language": "python",
     "metadata": {},
     "outputs": [
      {
       "output_type": "stream",
       "stream": "stdout",
       "text": [
        "PETSc\n"
       ]
      }
     ],
     "prompt_number": 145
    },
    {
     "cell_type": "code",
     "collapsed": false,
     "input": [
      "n = 0\n",
      "for k in xrange(NN):\n",
      "    if k not in nodes_to_reduction:\n",
      "        T[k] = res[n]\n",
      "        n += 1"
     ],
     "language": "python",
     "metadata": {},
     "outputs": [],
     "prompt_number": 146
    },
    {
     "cell_type": "code",
     "collapsed": false,
     "input": [
      "meshio.write(\n",
      "    '3d_result_petsc2.vtu',\n",
      "    points,\n",
      "    cells,\n",
      "    point_data={\"ololo\":T},\n",
      "    cell_data=cell_data,\n",
      "    field_data=field_data\n",
      "    )"
     ],
     "language": "python",
     "metadata": {},
     "outputs": [],
     "prompt_number": 147
    },
    {
     "cell_type": "code",
     "collapsed": false,
     "input": [],
     "language": "python",
     "metadata": {},
     "outputs": [],
     "prompt_number": 147
    }
   ],
   "metadata": {}
  }
 ]
}