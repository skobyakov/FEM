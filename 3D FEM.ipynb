{
 "metadata": {
  "name": "",
  "signature": "sha256:f3e5a93ecf0d53a64373ca17051708ea04f30f96348c358fb655600b3cc00913"
 },
 "nbformat": 3,
 "nbformat_minor": 0,
 "worksheets": [
  {
   "cells": [
    {
     "cell_type": "code",
     "collapsed": false,
     "input": [
      "import meshio\n",
      "import numpy as np\n",
      "import datetime\n",
      "import matplotlib.pyplot as plt\n",
      "from scipy import sparse\n",
      "\n",
      "import petsc4py, sys\n",
      "from petsc4py import PETSc\n",
      "petsc4py.init(sys.argv)\n",
      "\n",
      "points, cells, point_data, cell_data, field_data = meshio.read('three_dim_mesh2.vtk')"
     ],
     "language": "python",
     "metadata": {},
     "outputs": [
      {
       "output_type": "stream",
       "stream": "stdout",
       "text": [
        "\n"
       ]
      }
     ],
     "prompt_number": 22
    },
    {
     "cell_type": "code",
     "collapsed": false,
     "input": [
      "elements = cells['tetra']\n",
      "\n",
      "NN = len(points)\n",
      "NE = len(elements)\n",
      "\n",
      "# Global stiffness matrix\n",
      "K_glob = np.zeros((NN, NN))\n",
      "\n",
      "# Load vector\n",
      "F = np.zeros((NN, 1))\n",
      "\n",
      "def f(x, y, z):\n",
      "    return x + y + z"
     ],
     "language": "python",
     "metadata": {},
     "outputs": [],
     "prompt_number": 23
    },
    {
     "cell_type": "code",
     "collapsed": false,
     "input": [
      "def calculate_coordinate_matrix(element):\n",
      "    matrix = np.zeros((4, 4))\n",
      "    \n",
      "    for node_number in xrange(4):\n",
      "        node = points[element[node_number]]\n",
      "        matrix[node_number][0] = 1\n",
      "        for j in xrange(1, 4):\n",
      "            matrix[node_number][j] = node[j-1]\n",
      "    return matrix\n",
      "\n",
      "def calculate_coordinates(element):\n",
      "    e1 = element[0]\n",
      "    e2 = element[1]\n",
      "    e3 = element[2]\n",
      "    e4 = element[3]\n",
      "    \n",
      "    _x = points[e1][0] + points[e2][0] + points[e3][0] + points[e4][0]\n",
      "    _y = points[e1][1] + points[e2][1] + points[e3][1] + points[e4][1]\n",
      "    _z = points[e1][2] + points[e2][2] + points[e3][2] + points[e4][2]\n",
      "    \n",
      "    return _x, _y, _z"
     ],
     "language": "python",
     "metadata": {},
     "outputs": [],
     "prompt_number": 24
    },
    {
     "cell_type": "code",
     "collapsed": false,
     "input": [
      "for element_number in xrange(len(elements)):\n",
      "    currnet_element = elements[element_number]\n",
      "    \n",
      "    coordinate_matrix = calculate_coordinate_matrix(currnet_element)\n",
      "    coeff = np.linalg.inv(coordinate_matrix)\n",
      "    \n",
      "    integral = (1.0/6.0) * np.linalg.det(coordinate_matrix)\n",
      "    \n",
      "    _x, _y, _z = calculate_coordinates(currnet_element)\n",
      "    \n",
      "    load_integral = (1.0/4.0) * integral * f(_x, _y, _z)\n",
      "    \n",
      "    element_matrix = np.zeros((4, 4))\n",
      "    load_vector = np.zeros((4, 1))\n",
      "    for i in xrange(4):\n",
      "        load_vector[i] = load_integral\n",
      "        for j in xrange(4):\n",
      "            element_matrix[i][j] = (coeff[1][i]*coeff[1][j] + coeff[2][i]*coeff[2][j] + coeff[3][i]*coeff[3][j]) * integral\n",
      "    \n",
      "    for i in xrange(4):\n",
      "        for j in xrange(4):\n",
      "            p = elements[element_number][i]\n",
      "            q = elements[element_number][j]            \n",
      "            K_glob[p][q] += element_matrix[i][j]\n",
      "            \n",
      "            F[q] += load_vector[j]"
     ],
     "language": "python",
     "metadata": {},
     "outputs": [],
     "prompt_number": 25
    },
    {
     "cell_type": "code",
     "collapsed": false,
     "input": [
      "# Boundary vector\n",
      "Q = np.zeros((NN, 1))\n",
      "\n",
      "Q += F\n",
      "\n",
      "nodes_to_reduction = []\n",
      "face_nodes = []\n",
      "for point_number in xrange(len(points)):\n",
      "    point = points[point_number]\n",
      "    if point[2] == 0:# or point[2] == 1: #point[1] == 0\n",
      "        nodes_to_reduction.append(point_number)\n",
      "        face_nodes.append(point_number)\n",
      "    if point[2] == 1:\n",
      "        nodes_to_reduction.append(point_number)\n"
     ],
     "language": "python",
     "metadata": {},
     "outputs": [],
     "prompt_number": 26
    },
    {
     "cell_type": "code",
     "collapsed": false,
     "input": [
      "for node in face_nodes:\n",
      "    column = K_glob[:,node]\n",
      "    for i in xrange(NN):\n",
      "        Q[i] -= column[i] * 1 # EBC value\n",
      "        \n",
      "K_reduction = np.delete(K_glob, nodes_to_reduction, axis=1)\n",
      "K_reduction = np.delete(K_reduction, nodes_to_reduction, axis=0)\n",
      "Q_reduction = np.delete(Q, nodes_to_reduction, axis=0)"
     ],
     "language": "python",
     "metadata": {},
     "outputs": [],
     "prompt_number": 27
    },
    {
     "cell_type": "code",
     "collapsed": false,
     "input": [
      "T = np.zeros((NN, 1))\n",
      "for e in face_nodes:\n",
      "    T[e] = 1\n",
      "\n",
      "'''\n",
      "print '\\nNumPy:'\n",
      "time_start = datetime.datetime.now()\n",
      "res = np.linalg.solve(K_reduction, Q_reduction)\n",
      "time_end = datetime.datetime.now()\n",
      "print time_end - time_start\n",
      "'''"
     ],
     "language": "python",
     "metadata": {},
     "outputs": [
      {
       "metadata": {},
       "output_type": "pyout",
       "prompt_number": 28,
       "text": [
        "\"\\nprint '\\nNumPy:'\\ntime_start = datetime.datetime.now()\\nres = np.linalg.solve(K_reduction, Q_reduction)\\ntime_end = datetime.datetime.now()\\nprint time_end - time_start\\n\""
       ]
      }
     ],
     "prompt_number": 28
    },
    {
     "cell_type": "code",
     "collapsed": false,
     "input": [
      "sK = sparse.csr_matrix(K_reduction)\n",
      "sK = sK.astype(np.float64)"
     ],
     "language": "python",
     "metadata": {},
     "outputs": [],
     "prompt_number": 29
    },
    {
     "cell_type": "code",
     "collapsed": false,
     "input": [
      "pA = PETSc.Mat().createAIJ(size=sK.shape, csr=(sK.indptr, sK.indices, sK.data)) \n",
      "pA.assemblyBegin()\n",
      "pA.assemblyEnd()\n",
      "\n",
      "b = PETSc.Vec().createSeq(len(Q_reduction))\n",
      "for i in xrange(len(Q_reduction)):\n",
      "    b.setValue(i, Q_reduction[i])\n",
      "b.assemblyBegin()\n",
      "b.assemblyEnd()\n",
      "\n",
      "# Create solution vector x.\n",
      "x = PETSc.Vec().createSeq(len(Q_reduction))\n",
      "\n",
      "ksp = PETSc.KSP()\n",
      "ksp.create(PETSc.COMM_WORLD)\n",
      "# use conjugate gradients\n",
      "ksp.setType('cg')\n",
      "# and incomplete Cholesky\n",
      "ksp.getPC().setType('icc')\n",
      "# obtain sol & rhs vectors\n",
      "# and next solve\n",
      "ksp.setOperators(pA)\n",
      "ksp.setFromOptions()\n",
      "\n",
      "#Solve\n",
      "ksp.solve(b, x)\n",
      "res = x.getArray()\n"
     ],
     "language": "python",
     "metadata": {},
     "outputs": [],
     "prompt_number": 30
    },
    {
     "cell_type": "code",
     "collapsed": false,
     "input": [
      "res = []\n",
      "with open('./petsc/out.txt', 'r') as f:\n",
      "    res = [float(x) for x in f.read().split('\\n')[2:-1]]\n",
      "    \n",
      "print len(res)"
     ],
     "language": "python",
     "metadata": {},
     "outputs": [
      {
       "output_type": "stream",
       "stream": "stdout",
       "text": [
        "897\n"
       ]
      }
     ],
     "prompt_number": 1
    },
    {
     "cell_type": "code",
     "collapsed": false,
     "input": [
      "#viewer = PETSc.Viewer().createBinary('matrix-pA.dat', 'w')\n",
      "#viewer(pA)\n",
      "\n",
      "#viewer = PETSc.Viewer().createBinary('vector-b.dat', 'w')\n",
      "#viewer(b)\n",
      "\n",
      "'''\n",
      "viewer = PETSc.Viewer().createBinary('matrix-pA.dat', 'r')\n",
      "pB = PETSc.Mat().load(viewer)\n",
      "'''"
     ],
     "language": "python",
     "metadata": {},
     "outputs": [
      {
       "metadata": {},
       "output_type": "pyout",
       "prompt_number": 32,
       "text": [
        "\"\\nviewer = PETSc.Viewer().createBinary('matrix-pA.dat', 'r')\\npB = PETSc.Mat().load(viewer)\\n\""
       ]
      }
     ],
     "prompt_number": 32
    },
    {
     "cell_type": "code",
     "collapsed": false,
     "input": [
      "n = 0\n",
      "for k in xrange(NN):\n",
      "    if k not in nodes_to_reduction:\n",
      "        T[k] = res[n]\n",
      "        n += 1     "
     ],
     "language": "python",
     "metadata": {},
     "outputs": [],
     "prompt_number": 33
    },
    {
     "cell_type": "code",
     "collapsed": false,
     "input": [
      "meshio.write(\n",
      "    '3d_result_petsc_convert.vtu',\n",
      "    points,\n",
      "    cells,\n",
      "    point_data={\"ololo\":T},\n",
      "    cell_data=cell_data,\n",
      "    field_data=field_data\n",
      "    )"
     ],
     "language": "python",
     "metadata": {},
     "outputs": [],
     "prompt_number": 34
    }
   ],
   "metadata": {}
  }
 ]
}