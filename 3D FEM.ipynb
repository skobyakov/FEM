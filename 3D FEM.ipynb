{
 "metadata": {
  "name": "",
  "signature": "sha256:abbdd9e2760241f9eab0bdc654e33a5d75d54e5dc180fe96872ef2dd96be68f3"
 },
 "nbformat": 3,
 "nbformat_minor": 0,
 "worksheets": [
  {
   "cells": [
    {
     "cell_type": "code",
     "collapsed": false,
     "input": [
      "import meshio\n",
      "points, cells, point_data, cell_data, field_data = meshio.read('three_dim_cube_small.msh')\n",
      "\n",
      "'''\n",
      "meshio.write(\n",
      "    'output.vtu',\n",
      "    points,\n",
      "    cells,\n",
      "    point_data=point_data,\n",
      "    cell_data=cell_data,\n",
      "    field_data=field_data\n",
      "    )\n",
      "'''\n",
      "\n",
      "print cells['tetra']"
     ],
     "language": "python",
     "metadata": {},
     "outputs": [
      {
       "output_type": "stream",
       "stream": "stdout",
       "text": [
        "[[ 9 11 10  8]\n",
        " [13  9 12 11]\n",
        " [13  9 11 10]\n",
        " [ 9 12 11  8]\n",
        " [ 9  4  5 13]\n",
        " [ 7  6 13 11]\n",
        " [ 3  4  9 12]\n",
        " [ 6  5 13 10]\n",
        " [ 1  6 11 10]\n",
        " [ 0  3  9  8]\n",
        " [ 4  7 13 12]\n",
        " [ 2  1 11  8]\n",
        " [ 0  9  5 10]\n",
        " [ 1  0 10  8]\n",
        " [ 2  7 12 11]\n",
        " [ 3  2 12  8]\n",
        " [ 9  4 13 12]\n",
        " [ 5  9 13 10]\n",
        " [ 7 13 12 11]\n",
        " [ 0  9 10  8]\n",
        " [ 6 13 11 10]\n",
        " [11  1 10  8]\n",
        " [ 9  3 12  8]\n",
        " [12  2 11  8]]\n"
       ]
      }
     ],
     "prompt_number": 8
    }
   ],
   "metadata": {}
  }
 ]
}