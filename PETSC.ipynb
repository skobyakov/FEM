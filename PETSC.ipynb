{
 "metadata": {
  "name": "",
  "signature": "sha256:22480c2ad7640aaf9a2aa4904d8db5bf159a295fc24ed2ec958f7f0a04afa656"
 },
 "nbformat": 3,
 "nbformat_minor": 0,
 "worksheets": [
  {
   "cells": [
    {
     "cell_type": "code",
     "collapsed": false,
     "input": [
      "import petsc4py, sys\n",
      "from petsc4py import PETSc\n",
      "petsc4py.init(sys.argv)\n",
      "from numpy import mgrid\n",
      "from matplotlib import pylab"
     ],
     "language": "python",
     "metadata": {},
     "outputs": [],
     "prompt_number": 12
    },
    {
     "cell_type": "code",
     "collapsed": false,
     "input": [
      "m, n = 32, 32\n",
      "hx = 1.0/(m-1)\n",
      "hy = 1.0/(n-1)\n",
      "\n",
      "A = PETSc.Mat()\n",
      "A.create(PETSc.COMM_WORLD)\n",
      "A.setSizes([m*n, m*n])\n",
      "A.setType('aij') # sparse"
     ],
     "language": "python",
     "metadata": {},
     "outputs": [],
     "prompt_number": 13
    },
    {
     "cell_type": "code",
     "collapsed": false,
     "input": [
      "diagv = 2.0/hx**2 + 2.0/hy**2\n",
      "offdx = -1.0/hx**2\n",
      "offdy = -1.0/hy**2\n",
      "\n",
      "Istart, Iend = A.getOwnershipRange()\n",
      "\n",
      "for I in xrange(Istart, Iend):\n",
      "    A[I,I] = diagv\n",
      "    i = I//n # map row number to\n",
      "    j = I - i*n # grid coordinates\n",
      "    if i > 0:\n",
      "        J = I-n\n",
      "        A[I,J] = offdx\n",
      "    if i < m-1:\n",
      "        J = I+n\n",
      "        A[I,J] = offdx\n",
      "    if j > 0:\n",
      "        J = I-1\n",
      "        A[I,J] = offdy\n",
      "    if j < n-1:\n",
      "        J = I+1\n",
      "        A[I,J] = offdy"
     ],
     "language": "python",
     "metadata": {},
     "outputs": [],
     "prompt_number": 14
    },
    {
     "cell_type": "code",
     "collapsed": false,
     "input": [
      "A.assemblyBegin()\n",
      "A.assemblyEnd()"
     ],
     "language": "python",
     "metadata": {},
     "outputs": []
    },
    {
     "cell_type": "code",
     "collapsed": false,
     "input": [
      "ksp = PETSc.KSP()\n",
      "ksp.create(PETSc.COMM_WORLD)\n",
      "# use conjugate gradients\n",
      "ksp.setType('cg')\n",
      "# and incomplete Cholesky\n",
      "ksp.getPC().setType('icc')\n",
      "# obtain sol & rhs vectors\n",
      "x, b = A.getVecs()\n",
      "x.set(0)\n",
      "b.set(1)\n",
      "# and next solve\n",
      "ksp.setOperators(A)\n",
      "ksp.setFromOptions()\n",
      "ksp.solve(b, x)\n",
      "\n",
      "\n",
      "X, Y = mgrid[0:1:1j*m, 0:1:1j*n]\n",
      "Z = x[...].reshape(m,n)\n",
      "pylab.figure()\n",
      "pylab.contourf(X,Y,Z)\n",
      "pylab.plot(X.ravel(),Y.ravel(),'.k')\n",
      "pylab.axis('equal')\n",
      "pylab.colorbar()\n",
      "pylab.show()"
     ],
     "language": "python",
     "metadata": {},
     "outputs": []
    }
   ],
   "metadata": {}
  }
 ]
}