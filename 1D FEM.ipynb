{
 "metadata": {
  "name": "",
  "signature": "sha256:3a132ea0a7b4b4a68b4a439080b3619c9a4ab1341e039b732a75845cc1750f50"
 },
 "nbformat": 3,
 "nbformat_minor": 0,
 "worksheets": [
  {
   "cells": [
    {
     "cell_type": "code",
     "collapsed": false,
     "input": [
      "import math\n",
      "import numpy as np\n",
      "from scipy import linalg\n",
      "import matplotlib.pyplot as plt"
     ],
     "language": "python",
     "metadata": {},
     "outputs": [],
     "prompt_number": 1
    },
    {
     "cell_type": "markdown",
     "metadata": {},
     "source": [
      "$$u\\frac{\\mathrm{d} T}{\\mathrm{d} x}-k\\frac{\\mathrm{d}^{2}T }{\\mathrm{d} x^{2}} = f \\quad in \\quad 0\\leq x \\leq 1$$"
     ]
    },
    {
     "cell_type": "code",
     "collapsed": false,
     "input": [
      "# Constants\n",
      "U = 3\n",
      "K = 1\n",
      "F = 1\n",
      "# Dirichlet boundary conditions\n",
      "LEFT = 0\n",
      "RIGHT = 0\n",
      "# GQ integration constants\n",
      "NGP = 3\n",
      "xi= [-math.sqrt(3/5), 0, math.sqrt(3/5)]\n",
      "w = [5/9, 8/9, 5/9]"
     ],
     "language": "python",
     "metadata": {},
     "outputs": [],
     "prompt_number": 2
    },
    {
     "cell_type": "code",
     "collapsed": false,
     "input": [
      "NN = 5 # Number of nodes\n",
      "NE = NN - 1 # Number of elements\n",
      "h = 1 / NE # Length of element (all elements have the same length)\n",
      "J = h / 2 # Jacobian"
     ],
     "language": "python",
     "metadata": {},
     "outputs": [],
     "prompt_number": 3
    },
    {
     "cell_type": "markdown",
     "metadata": {},
     "source": [
      "_Elemental stiffness matrices can be evaluated using:_\n",
      "$$K_{ij}^{e}=\\int_{-1}^{1}\\left ( S_{i} u\\frac{\\mathrm{d} S_{j}}{\\mathrm{d} \\xi } \\frac{1}{J^{e}}\n",
      "+k \\frac{\\mathrm{d}S_{i} }{\\mathrm{d} \\xi} \\frac{1}{J^{e}} \\frac{\\mathrm{d} S_{j}}{\\mathrm{d} \\xi} \n",
      "\\frac{1}{J^{e}} \\right )J^{e}\\mathrm{d}\\xi$$"
     ]
    },
    {
     "cell_type": "markdown",
     "metadata": {},
     "source": [
      "$$S_{0}=\\frac{1}{2}\\left ( 1-\\xi \\right )$$\n",
      "$$S_{1}=\\frac{1}{2}\\left ( 1+\\xi \\right )$$"
     ]
    },
    {
     "cell_type": "code",
     "collapsed": false,
     "input": [
      "dS = [-0.5, 0.5] # Derivatives"
     ],
     "language": "python",
     "metadata": {},
     "outputs": [],
     "prompt_number": 4
    },
    {
     "cell_type": "markdown",
     "metadata": {},
     "source": [
      "_Simplified:_\n",
      "$$K_{ij}^{e} = \\frac{\\mathrm{d} S_{j}}{\\mathrm{d} \\xi}\\left( \\frac{u}{2}\\sum_{k=1}^{NGP} \\left( 1 + \\left( -1 \\right )^{i+1} \\xi_{k} \\right ) W_{k} + k\\frac{\\mathrm{d} S_{i}}{\\mathrm{d} \\xi} \\frac{2}{J^{e}} \\right)$$"
     ]
    },
    {
     "cell_type": "markdown",
     "metadata": {},
     "source": [
      "GQ integraton for $\\int_{-1}^{1} S_{i} d\\xi=\\sum_{k=1}^{NGP} \\left( 1 + \\left( -1 \\right )^{i+1} \\xi_{k} \\right ) W_{k}$:"
     ]
    },
    {
     "cell_type": "code",
     "collapsed": false,
     "input": [
      "def GQ_integration():\n",
      "    S = 0\n",
      "    for k in range(NGP):\n",
      "        S += (1 + (-1)**(i+1) * xi[k])*w[k]\n",
      "    return S"
     ],
     "language": "python",
     "metadata": {},
     "outputs": [],
     "prompt_number": 5
    },
    {
     "cell_type": "code",
     "collapsed": false,
     "input": [
      "# Elemental matrix will be the same for all elements\n",
      "K_e = np.zeros((2, 2))\n",
      "for i in range(2):\n",
      "    for j in range(2):\n",
      "        S = GQ_integration()\n",
      "        K_e[i][j] = dS[j] * ( U/2 * S + K * dS[i]* 2/J )\n",
      "print(K_e)"
     ],
     "language": "python",
     "metadata": {},
     "outputs": [
      {
       "output_type": "stream",
       "stream": "stdout",
       "text": [
        "[[ 2.5 -2.5]\n",
        " [-5.5  5.5]]\n"
       ]
      }
     ],
     "prompt_number": 6
    },
    {
     "cell_type": "markdown",
     "metadata": {},
     "source": [
      "_Elemental force vector:_\n",
      "$$F_{i}^{e} = \\int_{-1}^{1}S_{i}fJ^{e}\\mathrm{d}\\xi$$\n",
      "_Simplified:_\n",
      "$$\\frac{1}{2}fJ^{e}\\sum_{k=1}^{NGP}\\left ( 1 + \\left (-1 \\right )^{i+1} \\xi_{k} \\right )W_{k}$$"
     ]
    },
    {
     "cell_type": "code",
     "collapsed": false,
     "input": [
      "# Elemental force vectors will also be the same for all elements\n",
      "F_e = np.zeros((2, 1))\n",
      "for i in range(2):\n",
      "    F_e[i] = 1/2 * F * J * GQ_integration()\n",
      "print(F_e)"
     ],
     "language": "python",
     "metadata": {},
     "outputs": [
      {
       "output_type": "stream",
       "stream": "stdout",
       "text": [
        "[[ 0.125]\n",
        " [ 0.125]]\n"
       ]
      }
     ],
     "prompt_number": 7
    },
    {
     "cell_type": "code",
     "collapsed": false,
     "input": [
      "# Local to global mapping of the mesh\n",
      "LtoG = []\n",
      "for k in range(NE):\n",
      "    LtoG.append([k, k+1])\n",
      "LtoG = np.array(LtoG)\n",
      "#print(LtoG)"
     ],
     "language": "python",
     "metadata": {},
     "outputs": [],
     "prompt_number": 8
    },
    {
     "cell_type": "code",
     "collapsed": false,
     "input": [
      "# Assembly process for global stiffness matrix\n",
      "K_glob = np.zeros((NN, NN))\n",
      "for e in range(NE):\n",
      "    for i in range(2):\n",
      "        for j in range(2):\n",
      "            p = LtoG[e, i]\n",
      "            q = LtoG[e, j]\n",
      "            K_glob[p][q] += K_e[i][j]\n",
      "print(K_glob)"
     ],
     "language": "python",
     "metadata": {},
     "outputs": [
      {
       "output_type": "stream",
       "stream": "stdout",
       "text": [
        "[[ 2.5 -2.5  0.   0.   0. ]\n",
        " [-5.5  8.  -2.5  0.   0. ]\n",
        " [ 0.  -5.5  8.  -2.5  0. ]\n",
        " [ 0.   0.  -5.5  8.  -2.5]\n",
        " [ 0.   0.   0.  -5.5  5.5]]\n"
       ]
      }
     ],
     "prompt_number": 9
    },
    {
     "cell_type": "code",
     "collapsed": false,
     "input": [
      "# Assembly process for global force vector\n",
      "F_glob = np.zeros((NN, 1))\n",
      "for e in range(NE):\n",
      "    for j in range(2):\n",
      "        p = LtoG[e, j]\n",
      "        F_glob[p] += F_e[j]\n",
      "#print(F_glob)"
     ],
     "language": "python",
     "metadata": {},
     "outputs": [],
     "prompt_number": 10
    },
    {
     "cell_type": "code",
     "collapsed": false,
     "input": [
      "# Due to the provided EBCs at x = 0 and x = 1\n",
      "K_glob_r = K_glob[1:NE, 1:NE]\n",
      "F_glob_r = F_glob[1:NE]\n",
      "for i in range(NN - 2):\n",
      "    F_glob_r = F_glob_r - K_glob[i+1][0]*LEFT - K_glob[i+1][NE]*RIGHT\n",
      "#print(K_glob_r)\n",
      "#print(F_glob_r)"
     ],
     "language": "python",
     "metadata": {},
     "outputs": [],
     "prompt_number": 11
    },
    {
     "cell_type": "code",
     "collapsed": false,
     "input": [
      "# Calculating results\n",
      "T = np.zeros((NN, 1))\n",
      "T[0] = LEFT\n",
      "T[NN-1] = RIGHT\n",
      "res = linalg.solve(K_glob_r, F_glob_r)\n",
      "for i in range(len(res)):\n",
      "    T[i+1] = res[i]\n",
      "#print(T)"
     ],
     "language": "python",
     "metadata": {},
     "outputs": [],
     "prompt_number": 12
    },
    {
     "cell_type": "code",
     "collapsed": false,
     "input": [
      "# Plotting\n",
      "%matplotlib inline\n",
      "xs = np.linspace(0, 1, num=NN)\n",
      "plt.plot(xs, T)\n",
      "plt.show()"
     ],
     "language": "python",
     "metadata": {},
     "outputs": [
      {
       "metadata": {},
       "output_type": "display_data",
       "png": "[encoded data removed]",
       "text": [
        "<matplotlib.figure.Figure at 0x7f90df086550>"
       ]
      }
     ],
     "prompt_number": 13
    },
    {
     "cell_type": "markdown",
     "metadata": {},
     "source": [
      "_Solve the same problem but change the BC at x=1 as follows:_\n",
      "$$\\frac{\\mathrm{d} T}{\\mathrm{d} x} \\bigg|_{x=1} = -1$$"
     ]
    },
    {
     "cell_type": "code",
     "collapsed": false,
     "input": [
      "# Neumann boundary condition\n",
      "RIGHT = -1"
     ],
     "language": "python",
     "metadata": {},
     "outputs": [],
     "prompt_number": 14
    },
    {
     "cell_type": "code",
     "collapsed": false,
     "input": [
      "# Due to the provided NBC at x = 1\n",
      "K_glob_r = K_glob[1:NN, 1:NN]\n",
      "F_glob_r = F_glob[1:NN]\n",
      "for i in range(NN - 2):\n",
      "    F_glob_r = F_glob_r - K_glob[i+1][0]*LEFT\n",
      "F_glob_r[-1]+= RIGHT\n",
      "#print(K_glob_r)\n",
      "#print(F_glob_r)"
     ],
     "language": "python",
     "metadata": {},
     "outputs": [],
     "prompt_number": 15
    },
    {
     "cell_type": "code",
     "collapsed": false,
     "input": [
      "# Calculating results\n",
      "T = np.zeros((NN, 1))\n",
      "T[0] = LEFT\n",
      "res = linalg.solve(K_glob_r, F_glob_r)\n",
      "for i in range(len(res)):\n",
      "    T[i+1] = res[i]\n",
      "#print(T)"
     ],
     "language": "python",
     "metadata": {},
     "outputs": [],
     "prompt_number": 16
    },
    {
     "cell_type": "code",
     "collapsed": false,
     "input": [
      "# Plotting\n",
      "%matplotlib inline\n",
      "xs = np.linspace(0, 1, num=NN)\n",
      "plt.plot(xs, T)\n",
      "plt.show()"
     ],
     "language": "python",
     "metadata": {
      "slideshow": {
       "slide_type": "-"
      }
     },
     "outputs": [
      {
       "metadata": {},
       "output_type": "display_data",
       "png": "[encoded data removed]",
       "text": [
        "<matplotlib.figure.Figure at 0x7f90df58ea58>"
       ]
      }
     ],
     "prompt_number": 17
    },
    {
     "cell_type": "markdown",
     "metadata": {},
     "source": [
      "###Higher Order Elements\n",
      "_with left EBC and right NBC_"
     ]
    },
    {
     "cell_type": "code",
     "collapsed": false,
     "input": [
      "NE = NN // 2\n",
      "h = 1 / NE\n",
      "J = h / 2"
     ],
     "language": "python",
     "metadata": {},
     "outputs": [],
     "prompt_number": 18
    },
    {
     "cell_type": "markdown",
     "metadata": {},
     "source": [
      "$$K_{ij}^{e} = u\\int_{-1}^{1}S_{i}\\frac{\\mathrm{d} S_{j}}{\\mathrm{d} \\xi}\\mathrm{d} \\xi + \\frac{k}{J^{e}} \\int_{-1}^{1}\\frac{\\mathrm{d} S_{i}}{\\mathrm{d} \\xi}\\frac{\\mathrm{d} S_{j}}{\\mathrm{d} \\xi}\\mathrm{d} \\xi$$\n",
      "$$S_{0} = \\frac{1}{2}\\xi\\left ( \\xi - 1\\right )$$\n",
      "$$S_{1} = \\left ( 1 - \\xi^{2} \\right )$$\n",
      "$$S_{2} = \\frac{1}{2}\\xi\\left ( 1 + \\xi \\right )$$"
     ]
    },
    {
     "cell_type": "code",
     "collapsed": false,
     "input": [
      "s = [lambda xi : 0.5*xi*(xi-1), lambda xi : 1 - xi*xi, lambda xi : 0.5*xi*(1+xi)]\n",
      "ds = [lambda xi : xi - 0.5, lambda xi : -2*xi, lambda xi : xi + 0.5]"
     ],
     "language": "python",
     "metadata": {},
     "outputs": [],
     "prompt_number": 19
    },
    {
     "cell_type": "code",
     "collapsed": false,
     "input": [
      "# Elemental matrix will be the same for all elements\n",
      "K_e = np.zeros((3, 3))\n",
      "for i in range(3):\n",
      "    for j in range(3):\n",
      "        S1 = S2 = 0\n",
      "        for k in range(NGP):\n",
      "            S1 += s[i](xi[k])*ds[j](xi[k])*w[k]\n",
      "            S2 += ds[i](xi[k])*ds[j](xi[k])*w[k]\n",
      "        K_e[i][j] = U * S1 + K/J * S2\n",
      "print(K_e)"
     ],
     "language": "python",
     "metadata": {},
     "outputs": [
      {
       "output_type": "stream",
       "stream": "stdout",
       "text": [
        "[[  3.16666667  -3.33333333   0.16666667]\n",
        " [ -7.33333333  10.66666667  -3.33333333]\n",
        " [  1.16666667  -7.33333333   6.16666667]]\n"
       ]
      }
     ],
     "prompt_number": 20
    },
    {
     "cell_type": "markdown",
     "metadata": {},
     "source": [
      "$$F_{i}^{e}=fJ^{e}\\int_{-1}^{1}S_{i}d\\xi$$"
     ]
    },
    {
     "cell_type": "code",
     "collapsed": false,
     "input": [
      "# Elemental force vectors will also be the same for all elements\n",
      "F_e = np.zeros((3, 1))\n",
      "for i in range(3):\n",
      "    S = 0\n",
      "    for k in range(NGP):\n",
      "        S += s[i](xi[k])*w[k]\n",
      "    F_e[i] = F * J * S\n",
      "print(F_e)"
     ],
     "language": "python",
     "metadata": {},
     "outputs": [
      {
       "output_type": "stream",
       "stream": "stdout",
       "text": [
        "[[ 0.08333333]\n",
        " [ 0.33333333]\n",
        " [ 0.08333333]]\n"
       ]
      }
     ],
     "prompt_number": 21
    },
    {
     "cell_type": "code",
     "collapsed": false,
     "input": [
      "# Local to global mapping of the mesh\n",
      "LtoG = []\n",
      "n = 0\n",
      "for _ in range(NE):\n",
      "    LtoG.append([n, n+1, n+2])\n",
      "    n += 2\n",
      "LtoG = np.array(LtoG)\n",
      "#print(LtoG)"
     ],
     "language": "python",
     "metadata": {},
     "outputs": [],
     "prompt_number": 22
    },
    {
     "cell_type": "code",
     "collapsed": false,
     "input": [
      "# Assembly process for global stiffness matrix\n",
      "K_glob = np.zeros((NN, NN))\n",
      "for e in range(NE):\n",
      "    for i in range(3):\n",
      "        for j in range(3):\n",
      "            p = LtoG[e, i]\n",
      "            q = LtoG[e, j]\n",
      "            K_glob[p][q] += K_e[i][j]\n",
      "print(K_glob)"
     ],
     "language": "python",
     "metadata": {},
     "outputs": [
      {
       "output_type": "stream",
       "stream": "stdout",
       "text": [
        "[[  3.16666667  -3.33333333   0.16666667   0.           0.        ]\n",
        " [ -7.33333333  10.66666667  -3.33333333   0.           0.        ]\n",
        " [  1.16666667  -7.33333333   9.33333333  -3.33333333   0.16666667]\n",
        " [  0.           0.          -7.33333333  10.66666667  -3.33333333]\n",
        " [  0.           0.           1.16666667  -7.33333333   6.16666667]]\n"
       ]
      }
     ],
     "prompt_number": 23
    },
    {
     "cell_type": "code",
     "collapsed": false,
     "input": [
      "# Assembly process for global force vector\n",
      "F_glob = np.zeros((NN, 1))\n",
      "for e in range(NE):\n",
      "    for j in range(3):\n",
      "        p = LtoG[e, j]\n",
      "        F_glob[p] += F_e[j]\n",
      "#print(F_glob)"
     ],
     "language": "python",
     "metadata": {},
     "outputs": [],
     "prompt_number": 24
    },
    {
     "cell_type": "code",
     "collapsed": false,
     "input": [
      "# Due to the provided NBC at x = 1 and EBC at x = 0\n",
      "K_glob_r = K_glob[1:NN, 1:NN]\n",
      "F_glob_r = F_glob[1:NN]\n",
      "for i in range(NN - 2):\n",
      "    F_glob_r = F_glob_r - K_glob[i+1][0]*LEFT\n",
      "F_glob_r[-1]+= RIGHT\n",
      "#print(K_glob_r)\n",
      "#print(F_glob_r)"
     ],
     "language": "python",
     "metadata": {},
     "outputs": [],
     "prompt_number": 25
    },
    {
     "cell_type": "code",
     "collapsed": false,
     "input": [
      "# Calculating results\n",
      "T_2 = np.zeros((NN, 1))\n",
      "T_2[0] = LEFT\n",
      "res = linalg.solve(K_glob_r, F_glob_r)\n",
      "for i in range(len(res)):\n",
      "    T_2[i+1] = res[i]\n",
      "#print(T_2)"
     ],
     "language": "python",
     "metadata": {},
     "outputs": [],
     "prompt_number": 26
    },
    {
     "cell_type": "code",
     "collapsed": false,
     "input": [
      "# Plotting\n",
      "%matplotlib inline\n",
      "xs = np.linspace(0, 1, num=NN)\n",
      "plt.plot(xs, T, color=\"blue\", linewidth=2)\n",
      "plt.plot(xs, T_2, color=\"red\", linewidth=2)\n",
      "plt.show()"
     ],
     "language": "python",
     "metadata": {},
     "outputs": [
      {
       "metadata": {},
       "output_type": "display_data",
       "png": "[encoded data removed]",
       "text": [
        "<matplotlib.figure.Figure at 0x7f90df50b710>"
       ]
      }
     ],
     "prompt_number": 27
    }
   ],
   "metadata": {}
  }
 ]
}