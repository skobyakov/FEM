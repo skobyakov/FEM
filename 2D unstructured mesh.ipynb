{
 "metadata": {
  "name": "",
  "signature": "sha256:a8d801c481cfb1c4f187569de396e54e1950dce59982092bee022fcafe71c99e"
 },
 "nbformat": 3,
 "nbformat_minor": 0,
 "worksheets": [
  {
   "cells": [
    {
     "cell_type": "code",
     "collapsed": false,
     "input": [],
     "language": "python",
     "metadata": {},
     "outputs": [],
     "prompt_number": 2
    },
    {
     "cell_type": "code",
     "collapsed": false,
     "input": [],
     "language": "python",
     "metadata": {},
     "outputs": []
    }
   ],
   "metadata": {}
  }
 ]
}