{
 "metadata": {
  "name": "",
  "signature": "sha256:43d38e38a418ec8604cb649d854b070474ba48a25c73564c6d62fc9495ccf739"
 },
 "nbformat": 3,
 "nbformat_minor": 0,
 "worksheets": [
  {
   "cells": [
    {
     "cell_type": "code",
     "collapsed": false,
     "input": [
      "import numpy as np\n",
      "import math"
     ],
     "language": "python",
     "metadata": {},
     "outputs": [],
     "prompt_number": 130
    },
    {
     "cell_type": "markdown",
     "metadata": {},
     "source": [
      "<img src=\"https://image.ibb.co/kXnzDQ/Screenshot_from_2017_06_26_12_08_56.png\" alt=\"Screenshot_from_2017_06_26_12_08_56\" border=\"0\">"
     ]
    },
    {
     "cell_type": "markdown",
     "metadata": {},
     "source": [
      "$$-\\nabla\\cdot (k \\nabla T) = 0$$"
     ]
    },
    {
     "cell_type": "code",
     "collapsed": false,
     "input": [
      "#constants\n",
      "k = 1.4\n",
      "T_in = 300\n",
      "h_in = 70\n",
      "T_out = 20\n",
      "h_out = 21"
     ],
     "language": "python",
     "metadata": {},
     "outputs": [],
     "prompt_number": 131
    },
    {
     "cell_type": "markdown",
     "metadata": {},
     "source": [
      "<img src=\"https://preview.ibb.co/iuAank/Screenshot_from_2017_06_26_12_15_12.png\" alt=\"Screenshot_from_2017_06_26_12_15_12\" border=\"0\">"
     ]
    },
    {
     "cell_type": "code",
     "collapsed": false,
     "input": [
      "#Grid\n",
      "elements = [\n",
      "    [0, 0, 0.05, 0, 0.05, 0.05, 0, 0.05],\n",
      "    [0.05, 0, 0.1, 0, 0.1, 0.05, 0.05, 0.05],\n",
      "    [0.1, 0, 0.15, 0, 0.1, 0.05],\n",
      "    [0, 0.05, 0.05, 0.05, 0.05, 0.1, 0, 0.1],\n",
      "    [0.05, 0.05, 0.1, 0.05, 0.05, 0.1]\n",
      "]\n",
      "elements = np.array(elements)"
     ],
     "language": "python",
     "metadata": {},
     "outputs": [],
     "prompt_number": 132
    },
    {
     "cell_type": "code",
     "collapsed": false,
     "input": [
      "# Jacobian for quadrilateral elements\n",
      "J_s = np.zeros((2, 2))\n",
      "\n",
      "#Jacobian for triangular elements\n",
      "J_t = np.zeros((2, 2))"
     ],
     "language": "python",
     "metadata": {},
     "outputs": [],
     "prompt_number": 133
    },
    {
     "cell_type": "code",
     "collapsed": false,
     "input": [
      "ds_dxi = [lambda eta : (-1/4)*(1-eta), lambda eta : (1/4)*(1-eta), lambda eta : (1/4)*(1+eta), lambda eta : (-1/4)*(1+eta)]\n",
      "ds_deta = [lambda xi : (-1/4)*(1-xi), lambda xi : (-1/4)*(1+xi), lambda xi : (1/4)*(1+xi), lambda xi : (1/4)*(1-xi)]\n",
      "\n",
      "J_s[0][0] = 0.025\n",
      "J_s[0][1] = 0\n",
      "J_s[1][0] = 0\n",
      "J_s[1][1] = 0.025\n",
      "inv_J_s = np.linalg.inv(J_s)\n",
      "print(inv_J_s)"
     ],
     "language": "python",
     "metadata": {},
     "outputs": [
      {
       "output_type": "stream",
       "stream": "stdout",
       "text": [
        "[[ 40.   0.]\n",
        " [  0.  40.]]\n"
       ]
      }
     ],
     "prompt_number": 134
    },
    {
     "cell_type": "code",
     "collapsed": false,
     "input": [
      "def integral_s(i, j, xi, eta):\n",
      "    return k * ((inv_J_s[0][0]*ds_dxi[i](eta) + inv_J_s[0][1]*ds_deta[i](xi))\n",
      "                *(inv_J_s[0][0]*ds_dxi[j](eta)+inv_J_s[0][1]*ds_deta[j](xi))\n",
      "                +(inv_J_s[1][0]*ds_dxi[i](eta)+inv_J_s[1][1]*ds_deta[i](xi))\n",
      "                *(inv_J_s[1][0]*ds_dxi[j](eta)+inv_J_s[1][1]*ds_deta[j](xi)))*np.linalg.det(J_s)"
     ],
     "language": "python",
     "metadata": {},
     "outputs": [],
     "prompt_number": 135
    },
    {
     "cell_type": "code",
     "collapsed": false,
     "input": [
      "NGP = 4\n",
      "xi_k = [-math.sqrt(1/3), math.sqrt(1/3), -math.sqrt(1/3), math.sqrt(1/3)]\n",
      "eta_k = [-math.sqrt(1/3), -math.sqrt(1/3), math.sqrt(1/3), math.sqrt(1/3)]\n",
      "w_k = [1, 1, 1, 1]\n",
      "\n",
      "K_se = np.zeros((4, 4))\n",
      "for i in range(4):\n",
      "    for j in range(4):\n",
      "        S = 0\n",
      "        for n in range(NGP):\n",
      "            S += integral_s(i, j, xi_k[n], eta_k[n]) * w_k[n]\n",
      "        K_se[i][j] = S\n",
      "print(K_se)"
     ],
     "language": "python",
     "metadata": {},
     "outputs": [
      {
       "output_type": "stream",
       "stream": "stdout",
       "text": [
        "[[ 0.93333333 -0.23333333 -0.46666667 -0.23333333]\n",
        " [-0.23333333  0.93333333 -0.23333333 -0.46666667]\n",
        " [-0.46666667 -0.23333333  0.93333333 -0.23333333]\n",
        " [-0.23333333 -0.46666667 -0.23333333  0.93333333]]\n"
       ]
      }
     ],
     "prompt_number": 136
    },
    {
     "cell_type": "code",
     "collapsed": false,
     "input": [
      "J_t[0][0] = 0.05\n",
      "J_t[0][1] = 0\n",
      "J_t[1][0] = 0\n",
      "J_t[1][1] = 0.05\n",
      "inv_J_t = np.linalg.inv(J_t)\n",
      "print(inv_J_t)"
     ],
     "language": "python",
     "metadata": {},
     "outputs": [
      {
       "output_type": "stream",
       "stream": "stdout",
       "text": [
        "[[ 20.   0.]\n",
        " [  0.  20.]]\n"
       ]
      }
     ],
     "prompt_number": 137
    },
    {
     "cell_type": "code",
     "collapsed": false,
     "input": [
      "ds_dxi = [lambda eta : -1, lambda eta : 1, lambda eta : 0]\n",
      "ds_deta = [lambda xi : -1, lambda xi : 0, lambda xi : 1]\n",
      "\n",
      "NGP = 3\n",
      "xi_k = [0.5, 0, 0.5]\n",
      "eta_k = [0, 0.5, 0.5]\n",
      "w_k = [1/6, 1/6, 1/6]\n",
      "\n",
      "K_te = np.zeros((3, 3))\n",
      "for i in range(3):\n",
      "    for j in range(3):\n",
      "        S = 0\n",
      "        for n in range(NGP):\n",
      "            S += integral_s(i, j, xi_k[n], eta_k[n]) * w_k[n]\n",
      "        K_te[i][j] = S\n",
      "print(K_te)"
     ],
     "language": "python",
     "metadata": {},
     "outputs": [
      {
       "output_type": "stream",
       "stream": "stdout",
       "text": [
        "[[ 1.4 -0.7 -0.7]\n",
        " [-0.7  0.7  0. ]\n",
        " [-0.7  0.   0.7]]\n"
       ]
      }
     ],
     "prompt_number": 138
    },
    {
     "cell_type": "code",
     "collapsed": false,
     "input": [
      "LtoG = [\n",
      "    [0, 1, 5, 4],\n",
      "    [1, 2, 6, 5],\n",
      "    [2, 3, 6, -1],\n",
      "    [4, 5, 8, 7],\n",
      "    [5, 6, 8, -1]\n",
      "]\n",
      "LtoG = np.array(LtoG)\n",
      "\n",
      "K_glob = np.zeros((9, 9))\n",
      "\n",
      "# quadrilateral\n",
      "for e in [0, 1, 3]:\n",
      "    for i in range(4):\n",
      "        for j in range(4):\n",
      "            p = LtoG[e, i]\n",
      "            q = LtoG[e, j]\n",
      "            K_glob[p][q] += K_se[i][j]\n",
      "            \n",
      "for e in [2, 4]:\n",
      "    for i in range(3):\n",
      "        for j in range(3):\n",
      "            p = LtoG[e, i]\n",
      "            q = LtoG[e, j]\n",
      "            K_glob[p][q] += K_te[i][j]\n",
      "\n",
      "print(K_glob)"
     ],
     "language": "python",
     "metadata": {},
     "outputs": [
      {
       "output_type": "stream",
       "stream": "stdout",
       "text": [
        "[[ 0.93333333 -0.23333333  0.          0.         -0.23333333 -0.46666667\n",
        "   0.          0.          0.        ]\n",
        " [-0.23333333  1.86666667 -0.23333333  0.         -0.46666667 -0.46666667\n",
        "  -0.46666667  0.          0.        ]\n",
        " [ 0.         -0.23333333  2.33333333 -0.7         0.         -0.46666667\n",
        "  -0.93333333  0.          0.        ]\n",
        " [ 0.          0.         -0.7         0.7         0.          0.          0.\n",
        "   0.          0.        ]\n",
        " [-0.23333333 -0.46666667  0.          0.          1.86666667 -0.46666667\n",
        "   0.         -0.23333333 -0.46666667]\n",
        " [-0.46666667 -0.46666667 -0.46666667  0.         -0.46666667  4.2\n",
        "  -0.93333333 -0.46666667 -0.93333333]\n",
        " [ 0.         -0.46666667 -0.93333333  0.          0.         -0.93333333\n",
        "   2.33333333  0.          0.        ]\n",
        " [ 0.          0.          0.          0.         -0.23333333 -0.46666667\n",
        "   0.          0.93333333 -0.23333333]\n",
        " [ 0.          0.          0.          0.         -0.46666667 -0.93333333\n",
        "   0.         -0.23333333  1.63333333]]\n"
       ]
      }
     ],
     "prompt_number": 139
    },
    {
     "cell_type": "code",
     "collapsed": false,
     "input": [
      "F_glob = np.zeros((9, 1))\n",
      "print(F_glob)"
     ],
     "language": "python",
     "metadata": {},
     "outputs": [
      {
       "output_type": "stream",
       "stream": "stdout",
       "text": [
        "[[ 0.]\n",
        " [ 0.]\n",
        " [ 0.]\n",
        " [ 0.]\n",
        " [ 0.]\n",
        " [ 0.]\n",
        " [ 0.]\n",
        " [ 0.]\n",
        " [ 0.]]\n"
       ]
      }
     ],
     "prompt_number": 140
    },
    {
     "cell_type": "markdown",
     "metadata": {},
     "source": [
      "$$\\text{Bottom: } SV = -k \\frac{\\partial T}{\\partial y} = \\underbrace{-h_{\\text{out}}}_{\\alpha}T + \\underbrace{h_{\\text{out}}T_{\\text{out}}}_{\\beta }$$\n",
      "$$\\text{Top: } SV = k \\frac{\\partial T}{\\partial y} = \\underbrace{-h_{\\text{in}}}_{\\alpha}T + \\underbrace{h_{\\text{in}}T_{\\text{in}}}_{\\beta }$$"
     ]
    },
    {
     "cell_type": "code",
     "collapsed": false,
     "input": [
      "# Transfer MBC to the [K] matrix\n",
      "\n",
      "m1 = (0.05/6) * 2 * h_out\n",
      "m2 = (0.05/6) * h_out\n",
      "m3 = (0.05/6) * 2 * h_in\n",
      "m4 = (0.05/6) * h_in\n",
      "\n",
      "K_glob[0][0] += m1\n",
      "K_glob[0][1] += m2\n",
      "\n",
      "K_glob[1][1] += m1 + m1\n",
      "K_glob[1][0] += m2\n",
      "K_glob[1][2] += m2\n",
      "\n",
      "K_glob[2][1] += m2\n",
      "K_glob[2][2] += m1 + m1\n",
      "K_glob[2][3] += m2\n",
      "\n",
      "K_glob[3][2] += m2\n",
      "K_glob[3][3] += m1\n",
      "\n",
      "K_glob[7][7] += m3\n",
      "K_glob[7][8] += m4\n",
      "\n",
      "K_glob[8][7] += m4\n",
      "K_glob[8][8] += m3"
     ],
     "language": "python",
     "metadata": {},
     "outputs": [],
     "prompt_number": 141
    },
    {
     "cell_type": "code",
     "collapsed": false,
     "input": [
      "B_glob = np.zeros((9, 1))\n",
      "B_glob[0] = 3 * h_out * T_out\n",
      "B_glob[1] = 3 * h_out * T_out + 3 * h_out * T_out\n",
      "B_glob[2] = 3 * h_out * T_out + 3 * h_out * T_out\n",
      "B_glob[3] = 3 * h_out * T_out\n",
      "B_glob[7] = 3 * h_in * T_in \n",
      "B_glob[8] = 3 * h_in * T_in\n",
      "\n",
      "for i in range(9):\n",
      "    B_glob[i] *= (0.05/6)\n",
      "\n",
      "print(B_glob)"
     ],
     "language": "python",
     "metadata": {},
     "outputs": [
      {
       "output_type": "stream",
       "stream": "stdout",
       "text": [
        "[[  10.5]\n",
        " [  21. ]\n",
        " [  21. ]\n",
        " [  10.5]\n",
        " [   0. ]\n",
        " [   0. ]\n",
        " [   0. ]\n",
        " [ 525. ]\n",
        " [ 525. ]]\n"
       ]
      }
     ],
     "prompt_number": 142
    },
    {
     "cell_type": "code",
     "collapsed": false,
     "input": [
      "T = np.linalg.solve(K_glob, B_glob)\n",
      "   \n",
      "print(T)"
     ],
     "language": "python",
     "metadata": {},
     "outputs": [
      {
       "output_type": "stream",
       "stream": "stdout",
       "text": [
        "[[  97.12275197]\n",
        " [  88.95072109]\n",
        " [  73.22556122]\n",
        " [  46.61278061]\n",
        " [ 163.32946424]\n",
        " [ 151.80399565]\n",
        " [ 107.80196697]\n",
        " [ 263.14361324]\n",
        " [ 232.4299576 ]]\n"
       ]
      }
     ],
     "prompt_number": 143
    }
   ],
   "metadata": {}
  }
 ]
}